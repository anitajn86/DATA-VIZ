{
 "cells": [
  {
   "cell_type": "code",
   "execution_count": 1,
   "metadata": {},
   "outputs": [],
   "source": [
    "import pandas as pd\n",
    "import numpy as np\n",
    "import seaborn as sns\n",
    "import matplotlib.pyplot as plt"
   ]
  },
  {
   "cell_type": "code",
   "execution_count": 2,
   "metadata": {},
   "outputs": [
    {
     "name": "stderr",
     "output_type": "stream",
     "text": [
      "<>:1: SyntaxWarning: invalid escape sequence '\\Y'\n",
      "<>:1: SyntaxWarning: invalid escape sequence '\\Y'\n",
      "C:\\Users\\LENOVO\\AppData\\Local\\Temp\\ipykernel_22000\\297151258.py:1: SyntaxWarning: invalid escape sequence '\\Y'\n",
      "  data=pd.read_excel(\"D:\\YEAR2SEM2\\DATA VISUALIZATION AND STORYTELLING\\DATA VIZ\\Mag6PlusEarthquakes_1900-2013.xlsx\")\n"
     ]
    },
    {
     "data": {
      "text/html": [
       "<div>\n",
       "<style scoped>\n",
       "    .dataframe tbody tr th:only-of-type {\n",
       "        vertical-align: middle;\n",
       "    }\n",
       "\n",
       "    .dataframe tbody tr th {\n",
       "        vertical-align: top;\n",
       "    }\n",
       "\n",
       "    .dataframe thead th {\n",
       "        text-align: right;\n",
       "    }\n",
       "</style>\n",
       "<table border=\"1\" class=\"dataframe\">\n",
       "  <thead>\n",
       "    <tr style=\"text-align: right;\">\n",
       "      <th></th>\n",
       "      <th>time</th>\n",
       "      <th>Date</th>\n",
       "      <th>Time</th>\n",
       "      <th>Unnamed: 3</th>\n",
       "      <th>latitude</th>\n",
       "      <th>longitude</th>\n",
       "      <th>depth</th>\n",
       "      <th>mag</th>\n",
       "      <th>magType</th>\n",
       "      <th>nst</th>\n",
       "      <th>gap</th>\n",
       "      <th>dmin</th>\n",
       "      <th>rms</th>\n",
       "      <th>net</th>\n",
       "      <th>id</th>\n",
       "      <th>updated</th>\n",
       "      <th>place</th>\n",
       "      <th>type</th>\n",
       "    </tr>\n",
       "  </thead>\n",
       "  <tbody>\n",
       "    <tr>\n",
       "      <th>0</th>\n",
       "      <td>2014-03-17T05:11:34.980Z</td>\n",
       "      <td>2014-03-17</td>\n",
       "      <td>05:11:34</td>\n",
       "      <td>NaN</td>\n",
       "      <td>-20.0030</td>\n",
       "      <td>-70.8741</td>\n",
       "      <td>17.0</td>\n",
       "      <td>6.2</td>\n",
       "      <td>mww</td>\n",
       "      <td>NaN</td>\n",
       "      <td>82.0</td>\n",
       "      <td>1.171</td>\n",
       "      <td>1.37</td>\n",
       "      <td>us</td>\n",
       "      <td>usc000ndw9</td>\n",
       "      <td>2014-03-17T14:57:11.000Z</td>\n",
       "      <td>80km WNW of Iquique, Chile</td>\n",
       "      <td>earthquake</td>\n",
       "    </tr>\n",
       "    <tr>\n",
       "      <th>1</th>\n",
       "      <td>2014-03-16T21:16:30.770Z</td>\n",
       "      <td>2014-03-16</td>\n",
       "      <td>21:16:30</td>\n",
       "      <td>NaN</td>\n",
       "      <td>-19.9246</td>\n",
       "      <td>-70.6278</td>\n",
       "      <td>20.0</td>\n",
       "      <td>6.7</td>\n",
       "      <td>mww</td>\n",
       "      <td>NaN</td>\n",
       "      <td>44.0</td>\n",
       "      <td>0.929</td>\n",
       "      <td>1.16</td>\n",
       "      <td>us</td>\n",
       "      <td>usc000ndnj</td>\n",
       "      <td>2014-03-17T18:43:29.249Z</td>\n",
       "      <td>60km WNW of Iquique, Chile</td>\n",
       "      <td>earthquake</td>\n",
       "    </tr>\n",
       "    <tr>\n",
       "      <th>2</th>\n",
       "      <td>2014-03-15T23:51:30.610Z</td>\n",
       "      <td>2014-03-15</td>\n",
       "      <td>23:51:30</td>\n",
       "      <td>NaN</td>\n",
       "      <td>-5.5660</td>\n",
       "      <td>-80.8790</td>\n",
       "      <td>9.8</td>\n",
       "      <td>6.3</td>\n",
       "      <td>mwp</td>\n",
       "      <td>NaN</td>\n",
       "      <td>90.0</td>\n",
       "      <td>6.253</td>\n",
       "      <td>1.00</td>\n",
       "      <td>us</td>\n",
       "      <td>usc000nd0c</td>\n",
       "      <td>2014-03-18T17:52:18.000Z</td>\n",
       "      <td>6km W of Sechura, Peru</td>\n",
       "      <td>earthquake</td>\n",
       "    </tr>\n",
       "    <tr>\n",
       "      <th>3</th>\n",
       "      <td>2014-03-15T08:59:21.790Z</td>\n",
       "      <td>2014-03-15</td>\n",
       "      <td>08:59:21</td>\n",
       "      <td>NaN</td>\n",
       "      <td>-14.0935</td>\n",
       "      <td>-76.2968</td>\n",
       "      <td>20.0</td>\n",
       "      <td>6.1</td>\n",
       "      <td>mww</td>\n",
       "      <td>NaN</td>\n",
       "      <td>71.0</td>\n",
       "      <td>2.159</td>\n",
       "      <td>1.02</td>\n",
       "      <td>us</td>\n",
       "      <td>usc000ncbl</td>\n",
       "      <td>2014-03-16T05:34:44.387Z</td>\n",
       "      <td>25km S of Paracas, Peru</td>\n",
       "      <td>earthquake</td>\n",
       "    </tr>\n",
       "    <tr>\n",
       "      <th>4</th>\n",
       "      <td>2014-03-13T17:06:50.800Z</td>\n",
       "      <td>2014-03-13</td>\n",
       "      <td>17:06:50</td>\n",
       "      <td>NaN</td>\n",
       "      <td>33.6793</td>\n",
       "      <td>131.8197</td>\n",
       "      <td>79.0</td>\n",
       "      <td>6.3</td>\n",
       "      <td>mwb</td>\n",
       "      <td>NaN</td>\n",
       "      <td>14.0</td>\n",
       "      <td>0.963</td>\n",
       "      <td>1.26</td>\n",
       "      <td>us</td>\n",
       "      <td>usc000nabv</td>\n",
       "      <td>2014-03-17T23:24:32.491Z</td>\n",
       "      <td>15km NNE of Kunisaki-shi, Japan</td>\n",
       "      <td>earthquake</td>\n",
       "    </tr>\n",
       "    <tr>\n",
       "      <th>...</th>\n",
       "      <td>...</td>\n",
       "      <td>...</td>\n",
       "      <td>...</td>\n",
       "      <td>...</td>\n",
       "      <td>...</td>\n",
       "      <td>...</td>\n",
       "      <td>...</td>\n",
       "      <td>...</td>\n",
       "      <td>...</td>\n",
       "      <td>...</td>\n",
       "      <td>...</td>\n",
       "      <td>...</td>\n",
       "      <td>...</td>\n",
       "      <td>...</td>\n",
       "      <td>...</td>\n",
       "      <td>...</td>\n",
       "      <td>...</td>\n",
       "      <td>...</td>\n",
       "    </tr>\n",
       "    <tr>\n",
       "      <th>8308</th>\n",
       "      <td>1900-01-31T19:22:00.000Z</td>\n",
       "      <td>1900-01-31</td>\n",
       "      <td>19:22:00</td>\n",
       "      <td>NaN</td>\n",
       "      <td>48.0000</td>\n",
       "      <td>146.0000</td>\n",
       "      <td>450.0</td>\n",
       "      <td>7.5</td>\n",
       "      <td>mj</td>\n",
       "      <td>0.0</td>\n",
       "      <td>NaN</td>\n",
       "      <td>NaN</td>\n",
       "      <td>NaN</td>\n",
       "      <td>centennial</td>\n",
       "      <td>centennial19000131192200</td>\n",
       "      <td>2013-07-09T19:07:15.000Z</td>\n",
       "      <td>northwest of the Kuril Islands</td>\n",
       "      <td>earthquake</td>\n",
       "    </tr>\n",
       "    <tr>\n",
       "      <th>8309</th>\n",
       "      <td>1900-01-20T06:33:00.000Z</td>\n",
       "      <td>1900-01-20</td>\n",
       "      <td>06:33:00</td>\n",
       "      <td>NaN</td>\n",
       "      <td>20.0000</td>\n",
       "      <td>-105.0000</td>\n",
       "      <td>0.0</td>\n",
       "      <td>7.3</td>\n",
       "      <td>mw</td>\n",
       "      <td>0.0</td>\n",
       "      <td>NaN</td>\n",
       "      <td>NaN</td>\n",
       "      <td>NaN</td>\n",
       "      <td>centennial</td>\n",
       "      <td>centennial19000120063300</td>\n",
       "      <td>2013-07-09T19:07:15.000Z</td>\n",
       "      <td>Jalisco, Mexico</td>\n",
       "      <td>earthquake</td>\n",
       "    </tr>\n",
       "    <tr>\n",
       "      <th>8310</th>\n",
       "      <td>1900-01-18T07:46:00.000Z</td>\n",
       "      <td>1900-01-18</td>\n",
       "      <td>07:46:00</td>\n",
       "      <td>NaN</td>\n",
       "      <td>44.5000</td>\n",
       "      <td>148.5000</td>\n",
       "      <td>35.0</td>\n",
       "      <td>6.7</td>\n",
       "      <td>mj</td>\n",
       "      <td>0.0</td>\n",
       "      <td>NaN</td>\n",
       "      <td>NaN</td>\n",
       "      <td>NaN</td>\n",
       "      <td>centennial</td>\n",
       "      <td>centennial19000118074600</td>\n",
       "      <td>2013-07-09T19:07:15.000Z</td>\n",
       "      <td>Kuril Islands</td>\n",
       "      <td>earthquake</td>\n",
       "    </tr>\n",
       "    <tr>\n",
       "      <th>8311</th>\n",
       "      <td>1900-01-11T09:07:00.000Z</td>\n",
       "      <td>1900-01-11</td>\n",
       "      <td>09:07:00</td>\n",
       "      <td>NaN</td>\n",
       "      <td>-5.0000</td>\n",
       "      <td>148.0000</td>\n",
       "      <td>0.0</td>\n",
       "      <td>7.0</td>\n",
       "      <td>ms</td>\n",
       "      <td>0.0</td>\n",
       "      <td>NaN</td>\n",
       "      <td>NaN</td>\n",
       "      <td>NaN</td>\n",
       "      <td>centennial</td>\n",
       "      <td>centennial19000111090700</td>\n",
       "      <td>2013-07-09T19:07:15.000Z</td>\n",
       "      <td>Bismarck Sea</td>\n",
       "      <td>earthquake</td>\n",
       "    </tr>\n",
       "    <tr>\n",
       "      <th>8312</th>\n",
       "      <td>1900-01-05T19:00:00.000Z</td>\n",
       "      <td>1900-01-05</td>\n",
       "      <td>19:00:00</td>\n",
       "      <td>NaN</td>\n",
       "      <td>-3.0000</td>\n",
       "      <td>102.0000</td>\n",
       "      <td>0.0</td>\n",
       "      <td>7.0</td>\n",
       "      <td>ms</td>\n",
       "      <td>0.0</td>\n",
       "      <td>NaN</td>\n",
       "      <td>NaN</td>\n",
       "      <td>NaN</td>\n",
       "      <td>centennial</td>\n",
       "      <td>centennial19000105190000</td>\n",
       "      <td>2013-07-09T19:07:15.000Z</td>\n",
       "      <td>southern Sumatra, Indonesia</td>\n",
       "      <td>earthquake</td>\n",
       "    </tr>\n",
       "  </tbody>\n",
       "</table>\n",
       "<p>8313 rows × 18 columns</p>\n",
       "</div>"
      ],
      "text/plain": [
       "                          time       Date      Time  Unnamed: 3  latitude  \\\n",
       "0     2014-03-17T05:11:34.980Z 2014-03-17  05:11:34         NaN  -20.0030   \n",
       "1     2014-03-16T21:16:30.770Z 2014-03-16  21:16:30         NaN  -19.9246   \n",
       "2     2014-03-15T23:51:30.610Z 2014-03-15  23:51:30         NaN   -5.5660   \n",
       "3     2014-03-15T08:59:21.790Z 2014-03-15  08:59:21         NaN  -14.0935   \n",
       "4     2014-03-13T17:06:50.800Z 2014-03-13  17:06:50         NaN   33.6793   \n",
       "...                        ...        ...       ...         ...       ...   \n",
       "8308  1900-01-31T19:22:00.000Z 1900-01-31  19:22:00         NaN   48.0000   \n",
       "8309  1900-01-20T06:33:00.000Z 1900-01-20  06:33:00         NaN   20.0000   \n",
       "8310  1900-01-18T07:46:00.000Z 1900-01-18  07:46:00         NaN   44.5000   \n",
       "8311  1900-01-11T09:07:00.000Z 1900-01-11  09:07:00         NaN   -5.0000   \n",
       "8312  1900-01-05T19:00:00.000Z 1900-01-05  19:00:00         NaN   -3.0000   \n",
       "\n",
       "      longitude  depth  mag magType  nst   gap   dmin   rms         net  \\\n",
       "0      -70.8741   17.0  6.2     mww  NaN  82.0  1.171  1.37          us   \n",
       "1      -70.6278   20.0  6.7     mww  NaN  44.0  0.929  1.16          us   \n",
       "2      -80.8790    9.8  6.3     mwp  NaN  90.0  6.253  1.00          us   \n",
       "3      -76.2968   20.0  6.1     mww  NaN  71.0  2.159  1.02          us   \n",
       "4      131.8197   79.0  6.3     mwb  NaN  14.0  0.963  1.26          us   \n",
       "...         ...    ...  ...     ...  ...   ...    ...   ...         ...   \n",
       "8308   146.0000  450.0  7.5      mj  0.0   NaN    NaN   NaN  centennial   \n",
       "8309  -105.0000    0.0  7.3      mw  0.0   NaN    NaN   NaN  centennial   \n",
       "8310   148.5000   35.0  6.7      mj  0.0   NaN    NaN   NaN  centennial   \n",
       "8311   148.0000    0.0  7.0      ms  0.0   NaN    NaN   NaN  centennial   \n",
       "8312   102.0000    0.0  7.0      ms  0.0   NaN    NaN   NaN  centennial   \n",
       "\n",
       "                            id                   updated  \\\n",
       "0                   usc000ndw9  2014-03-17T14:57:11.000Z   \n",
       "1                   usc000ndnj  2014-03-17T18:43:29.249Z   \n",
       "2                   usc000nd0c  2014-03-18T17:52:18.000Z   \n",
       "3                   usc000ncbl  2014-03-16T05:34:44.387Z   \n",
       "4                   usc000nabv  2014-03-17T23:24:32.491Z   \n",
       "...                        ...                       ...   \n",
       "8308  centennial19000131192200  2013-07-09T19:07:15.000Z   \n",
       "8309  centennial19000120063300  2013-07-09T19:07:15.000Z   \n",
       "8310  centennial19000118074600  2013-07-09T19:07:15.000Z   \n",
       "8311  centennial19000111090700  2013-07-09T19:07:15.000Z   \n",
       "8312  centennial19000105190000  2013-07-09T19:07:15.000Z   \n",
       "\n",
       "                                place        type  \n",
       "0          80km WNW of Iquique, Chile  earthquake  \n",
       "1          60km WNW of Iquique, Chile  earthquake  \n",
       "2              6km W of Sechura, Peru  earthquake  \n",
       "3             25km S of Paracas, Peru  earthquake  \n",
       "4     15km NNE of Kunisaki-shi, Japan  earthquake  \n",
       "...                               ...         ...  \n",
       "8308   northwest of the Kuril Islands  earthquake  \n",
       "8309                  Jalisco, Mexico  earthquake  \n",
       "8310                    Kuril Islands  earthquake  \n",
       "8311                     Bismarck Sea  earthquake  \n",
       "8312      southern Sumatra, Indonesia  earthquake  \n",
       "\n",
       "[8313 rows x 18 columns]"
      ]
     },
     "execution_count": 2,
     "metadata": {},
     "output_type": "execute_result"
    }
   ],
   "source": [
    "data=pd.read_excel(\"D:\\YEAR2SEM2\\DATA VISUALIZATION AND STORYTELLING\\DATA VIZ\\Mag6PlusEarthquakes_1900-2013.xlsx\")\n",
    "data\n",
    "\n"
   ]
  },
  {
   "cell_type": "code",
   "execution_count": 3,
   "metadata": {},
   "outputs": [
    {
     "data": {
      "text/plain": [
       "Index(['time', 'Date', 'Time', 'Unnamed: 3', 'latitude', 'longitude', 'depth',\n",
       "       'mag', 'magType', 'nst', 'gap', 'dmin', 'rms', 'net', 'id', 'updated',\n",
       "       'place', 'type'],\n",
       "      dtype='object')"
      ]
     },
     "execution_count": 3,
     "metadata": {},
     "output_type": "execute_result"
    }
   ],
   "source": [
    "data.columns"
   ]
  },
  {
   "cell_type": "code",
   "execution_count": 4,
   "metadata": {},
   "outputs": [
    {
     "data": {
      "text/plain": [
       "time             0\n",
       "Date             0\n",
       "Time             0\n",
       "Unnamed: 3    8313\n",
       "latitude         0\n",
       "longitude        0\n",
       "depth            0\n",
       "mag              1\n",
       "magType         15\n",
       "nst            202\n",
       "gap           7215\n",
       "dmin          8149\n",
       "rms           7149\n",
       "net              0\n",
       "id               0\n",
       "updated          0\n",
       "place            9\n",
       "type             0\n",
       "dtype: int64"
      ]
     },
     "execution_count": 4,
     "metadata": {},
     "output_type": "execute_result"
    }
   ],
   "source": [
    "data.isna().sum()"
   ]
  },
  {
   "cell_type": "code",
   "execution_count": 5,
   "metadata": {},
   "outputs": [
    {
     "data": {
      "text/plain": [
       "(8313, 18)"
      ]
     },
     "execution_count": 5,
     "metadata": {},
     "output_type": "execute_result"
    }
   ],
   "source": [
    "data.shape"
   ]
  },
  {
   "cell_type": "code",
   "execution_count": 6,
   "metadata": {},
   "outputs": [],
   "source": [
    "data.drop('Unnamed: 3', axis=1, inplace=True)"
   ]
  },
  {
   "cell_type": "code",
   "execution_count": 7,
   "metadata": {},
   "outputs": [
    {
     "data": {
      "text/plain": [
       "Index(['time', 'Date', 'Time', 'latitude', 'longitude', 'depth', 'mag',\n",
       "       'magType', 'nst', 'gap', 'dmin', 'rms', 'net', 'id', 'updated', 'place',\n",
       "       'type'],\n",
       "      dtype='object')"
      ]
     },
     "execution_count": 7,
     "metadata": {},
     "output_type": "execute_result"
    }
   ],
   "source": [
    "data.columns"
   ]
  },
  {
   "cell_type": "code",
   "execution_count": null,
   "metadata": {},
   "outputs": [
    {
     "data": {
      "text/plain": [
       "<Axes: xlabel='dmin', ylabel='Count'>"
      ]
     },
     "execution_count": 8,
     "metadata": {},
     "output_type": "execute_result"
    },
    {
     "data": {
      "image/png": "[encoded data removed]",
      "text/plain": [
       "<Figure size 640x480 with 1 Axes>"
      ]
     },
     "metadata": {},
     "output_type": "display_data"
    }
   ],
   "source": [
    "sns.histplot(data=data,x='dmin',)"
   ]
  },
  {
   "cell_type": "code",
   "execution_count": 9,
   "metadata": {},
   "outputs": [
    {
     "data": {
      "image/png": "[encoded data removed]",
      "text/plain": [
       "<Figure size 600x400 with 1 Axes>"
      ]
     },
     "metadata": {},
     "output_type": "display_data"
    }
   ],
   "source": [
    "plt.figure(figsize=(6,4))\n",
    "sns.histplot(data['dmin'],bins=30,kde=True,color='green')\n",
    "plt.title(\"Histogram of dmin\")\n",
    "plt.show()"
   ]
  },
  {
   "cell_type": "code",
   "execution_count": 10,
   "metadata": {},
   "outputs": [],
   "source": [
    "data['dmin']=data['dmin'].fillna(data['dmin'].median())"
   ]
  },
  {
   "cell_type": "code",
   "execution_count": 11,
   "metadata": {},
   "outputs": [
    {
     "data": {
      "text/plain": [
       "time            0\n",
       "Date            0\n",
       "Time            0\n",
       "latitude        0\n",
       "longitude       0\n",
       "depth           0\n",
       "mag             1\n",
       "magType        15\n",
       "nst           202\n",
       "gap          7215\n",
       "dmin            0\n",
       "rms          7149\n",
       "net             0\n",
       "id              0\n",
       "updated         0\n",
       "place           9\n",
       "type            0\n",
       "dtype: int64"
      ]
     },
     "execution_count": 11,
     "metadata": {},
     "output_type": "execute_result"
    }
   ],
   "source": [
    "data.isna().sum()"
   ]
  }
 ],
 "metadata": {
  "kernelspec": {
   "display_name": "Python 3",
   "language": "python",
   "name": "python3"
  },
  "language_info": {
   "codemirror_mode": {
    "name": "ipython",
    "version": 3
   },
   "file_extension": ".py",
   "mimetype": "text/x-python",
   "name": "python",
   "nbconvert_exporter": "python",
   "pygments_lexer": "ipython3",
   "version": "3.12.2"
  }
 },
 "nbformat": 4,
 "nbformat_minor": 2
}
