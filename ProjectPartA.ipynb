{
 "cells": [
  {
   "cell_type": "code",
   "execution_count": 4,
   "metadata": {},
   "outputs": [],
   "source": [
    "import pandas as pd\n",
    "import numpy as np\n",
    "import seaborn as sns\n",
    "import matplotlib.pyplot as plt"
   ]
  },
  {
   "cell_type": "code",
   "execution_count": 5,
   "metadata": {},
   "outputs": [
    {
     "data": {
      "text/html": [
       "<div>\n",
       "<style scoped>\n",
       "    .dataframe tbody tr th:only-of-type {\n",
       "        vertical-align: middle;\n",
       "    }\n",
       "\n",
       "    .dataframe tbody tr th {\n",
       "        vertical-align: top;\n",
       "    }\n",
       "\n",
       "    .dataframe thead th {\n",
       "        text-align: right;\n",
       "    }\n",
       "</style>\n",
       "<table border=\"1\" class=\"dataframe\">\n",
       "  <thead>\n",
       "    <tr style=\"text-align: right;\">\n",
       "      <th></th>\n",
       "      <th>Host Id</th>\n",
       "      <th>Host Since</th>\n",
       "      <th>Name</th>\n",
       "      <th>Neighbourhood</th>\n",
       "      <th>Property Type</th>\n",
       "      <th>Review Scores Rating (bin)</th>\n",
       "      <th>Room Type</th>\n",
       "      <th>Zipcode</th>\n",
       "      <th>Beds</th>\n",
       "      <th>Number of Records</th>\n",
       "      <th>Number Of Reviews</th>\n",
       "      <th>Price</th>\n",
       "      <th>Review Scores Rating</th>\n",
       "    </tr>\n",
       "  </thead>\n",
       "  <tbody>\n",
       "    <tr>\n",
       "      <th>0</th>\n",
       "      <td>5162530</td>\n",
       "      <td>NaT</td>\n",
       "      <td>1 Bedroom in Prime Williamsburg</td>\n",
       "      <td>Brooklyn</td>\n",
       "      <td>Apartment</td>\n",
       "      <td>NaN</td>\n",
       "      <td>Entire home/apt</td>\n",
       "      <td>11249.0</td>\n",
       "      <td>1.0</td>\n",
       "      <td>1</td>\n",
       "      <td>0</td>\n",
       "      <td>145</td>\n",
       "      <td>NaN</td>\n",
       "    </tr>\n",
       "    <tr>\n",
       "      <th>1</th>\n",
       "      <td>33134899</td>\n",
       "      <td>NaT</td>\n",
       "      <td>Sunny, Private room in Bushwick</td>\n",
       "      <td>Brooklyn</td>\n",
       "      <td>Apartment</td>\n",
       "      <td>NaN</td>\n",
       "      <td>Private room</td>\n",
       "      <td>11206.0</td>\n",
       "      <td>1.0</td>\n",
       "      <td>1</td>\n",
       "      <td>1</td>\n",
       "      <td>37</td>\n",
       "      <td>NaN</td>\n",
       "    </tr>\n",
       "    <tr>\n",
       "      <th>2</th>\n",
       "      <td>39608626</td>\n",
       "      <td>NaT</td>\n",
       "      <td>Sunny Room in Harlem</td>\n",
       "      <td>Manhattan</td>\n",
       "      <td>Apartment</td>\n",
       "      <td>NaN</td>\n",
       "      <td>Private room</td>\n",
       "      <td>10032.0</td>\n",
       "      <td>1.0</td>\n",
       "      <td>1</td>\n",
       "      <td>1</td>\n",
       "      <td>28</td>\n",
       "      <td>NaN</td>\n",
       "    </tr>\n",
       "    <tr>\n",
       "      <th>3</th>\n",
       "      <td>500</td>\n",
       "      <td>2008-06-26</td>\n",
       "      <td>Gorgeous 1 BR with Private Balcony</td>\n",
       "      <td>Manhattan</td>\n",
       "      <td>Apartment</td>\n",
       "      <td>NaN</td>\n",
       "      <td>Entire home/apt</td>\n",
       "      <td>10024.0</td>\n",
       "      <td>3.0</td>\n",
       "      <td>1</td>\n",
       "      <td>0</td>\n",
       "      <td>199</td>\n",
       "      <td>NaN</td>\n",
       "    </tr>\n",
       "    <tr>\n",
       "      <th>4</th>\n",
       "      <td>500</td>\n",
       "      <td>2008-06-26</td>\n",
       "      <td>Trendy Times Square Loft</td>\n",
       "      <td>Manhattan</td>\n",
       "      <td>Apartment</td>\n",
       "      <td>95.0</td>\n",
       "      <td>Private room</td>\n",
       "      <td>10036.0</td>\n",
       "      <td>3.0</td>\n",
       "      <td>1</td>\n",
       "      <td>39</td>\n",
       "      <td>549</td>\n",
       "      <td>96.0</td>\n",
       "    </tr>\n",
       "    <tr>\n",
       "      <th>...</th>\n",
       "      <td>...</td>\n",
       "      <td>...</td>\n",
       "      <td>...</td>\n",
       "      <td>...</td>\n",
       "      <td>...</td>\n",
       "      <td>...</td>\n",
       "      <td>...</td>\n",
       "      <td>...</td>\n",
       "      <td>...</td>\n",
       "      <td>...</td>\n",
       "      <td>...</td>\n",
       "      <td>...</td>\n",
       "      <td>...</td>\n",
       "    </tr>\n",
       "    <tr>\n",
       "      <th>30473</th>\n",
       "      <td>43022976</td>\n",
       "      <td>2015-08-31</td>\n",
       "      <td>10 Mins to Time Square/two floors</td>\n",
       "      <td>Queens</td>\n",
       "      <td>Apartment</td>\n",
       "      <td>NaN</td>\n",
       "      <td>Entire home/apt</td>\n",
       "      <td>11101.0</td>\n",
       "      <td>5.0</td>\n",
       "      <td>1</td>\n",
       "      <td>0</td>\n",
       "      <td>300</td>\n",
       "      <td>NaN</td>\n",
       "    </tr>\n",
       "    <tr>\n",
       "      <th>30474</th>\n",
       "      <td>42993382</td>\n",
       "      <td>2015-08-31</td>\n",
       "      <td>1BR ocean view &amp; F,Q train st</td>\n",
       "      <td>Brooklyn</td>\n",
       "      <td>Apartment</td>\n",
       "      <td>NaN</td>\n",
       "      <td>Private room</td>\n",
       "      <td>11224.0</td>\n",
       "      <td>2.0</td>\n",
       "      <td>1</td>\n",
       "      <td>0</td>\n",
       "      <td>125</td>\n",
       "      <td>NaN</td>\n",
       "    </tr>\n",
       "    <tr>\n",
       "      <th>30475</th>\n",
       "      <td>43033067</td>\n",
       "      <td>2015-08-31</td>\n",
       "      <td>Amazing Private Room</td>\n",
       "      <td>Brooklyn</td>\n",
       "      <td>Other</td>\n",
       "      <td>NaN</td>\n",
       "      <td>Private room</td>\n",
       "      <td>11206.0</td>\n",
       "      <td>1.0</td>\n",
       "      <td>1</td>\n",
       "      <td>0</td>\n",
       "      <td>80</td>\n",
       "      <td>NaN</td>\n",
       "    </tr>\n",
       "    <tr>\n",
       "      <th>30476</th>\n",
       "      <td>43000991</td>\n",
       "      <td>2015-08-31</td>\n",
       "      <td>Charming private female room: UWS</td>\n",
       "      <td>Manhattan</td>\n",
       "      <td>Apartment</td>\n",
       "      <td>NaN</td>\n",
       "      <td>Private room</td>\n",
       "      <td>10025.0</td>\n",
       "      <td>1.0</td>\n",
       "      <td>1</td>\n",
       "      <td>0</td>\n",
       "      <td>35</td>\n",
       "      <td>NaN</td>\n",
       "    </tr>\n",
       "    <tr>\n",
       "      <th>30477</th>\n",
       "      <td>42999189</td>\n",
       "      <td>2015-08-31</td>\n",
       "      <td>Huge Beautiful Bedroom - Astoria</td>\n",
       "      <td>Queens</td>\n",
       "      <td>House</td>\n",
       "      <td>NaN</td>\n",
       "      <td>Private room</td>\n",
       "      <td>11105.0</td>\n",
       "      <td>1.0</td>\n",
       "      <td>1</td>\n",
       "      <td>0</td>\n",
       "      <td>80</td>\n",
       "      <td>NaN</td>\n",
       "    </tr>\n",
       "  </tbody>\n",
       "</table>\n",
       "<p>30478 rows × 13 columns</p>\n",
       "</div>"
      ],
      "text/plain": [
       "        Host Id Host Since                                Name Neighbourhood   \\\n",
       "0       5162530        NaT     1 Bedroom in Prime Williamsburg       Brooklyn   \n",
       "1      33134899        NaT     Sunny, Private room in Bushwick       Brooklyn   \n",
       "2      39608626        NaT                Sunny Room in Harlem      Manhattan   \n",
       "3           500 2008-06-26  Gorgeous 1 BR with Private Balcony      Manhattan   \n",
       "4           500 2008-06-26            Trendy Times Square Loft      Manhattan   \n",
       "...         ...        ...                                 ...            ...   \n",
       "30473  43022976 2015-08-31   10 Mins to Time Square/two floors         Queens   \n",
       "30474  42993382 2015-08-31       1BR ocean view & F,Q train st       Brooklyn   \n",
       "30475  43033067 2015-08-31                Amazing Private Room       Brooklyn   \n",
       "30476  43000991 2015-08-31   Charming private female room: UWS      Manhattan   \n",
       "30477  42999189 2015-08-31    Huge Beautiful Bedroom - Astoria         Queens   \n",
       "\n",
       "      Property Type  Review Scores Rating (bin)        Room Type  Zipcode  \\\n",
       "0         Apartment                         NaN  Entire home/apt  11249.0   \n",
       "1         Apartment                         NaN     Private room  11206.0   \n",
       "2         Apartment                         NaN     Private room  10032.0   \n",
       "3         Apartment                         NaN  Entire home/apt  10024.0   \n",
       "4         Apartment                        95.0     Private room  10036.0   \n",
       "...             ...                         ...              ...      ...   \n",
       "30473     Apartment                         NaN  Entire home/apt  11101.0   \n",
       "30474     Apartment                         NaN     Private room  11224.0   \n",
       "30475         Other                         NaN     Private room  11206.0   \n",
       "30476     Apartment                         NaN     Private room  10025.0   \n",
       "30477         House                         NaN     Private room  11105.0   \n",
       "\n",
       "       Beds  Number of Records  Number Of Reviews  Price  Review Scores Rating  \n",
       "0       1.0                  1                  0    145                   NaN  \n",
       "1       1.0                  1                  1     37                   NaN  \n",
       "2       1.0                  1                  1     28                   NaN  \n",
       "3       3.0                  1                  0    199                   NaN  \n",
       "4       3.0                  1                 39    549                  96.0  \n",
       "...     ...                ...                ...    ...                   ...  \n",
       "30473   5.0                  1                  0    300                   NaN  \n",
       "30474   2.0                  1                  0    125                   NaN  \n",
       "30475   1.0                  1                  0     80                   NaN  \n",
       "30476   1.0                  1                  0     35                   NaN  \n",
       "30477   1.0                  1                  0     80                   NaN  \n",
       "\n",
       "[30478 rows x 13 columns]"
      ]
     },
     "execution_count": 5,
     "metadata": {},
     "output_type": "execute_result"
    }
   ],
   "source": [
    "data=pd.read_excel(\"airbnb.xlsx\")\n",
    "data"
   ]
  },
  {
   "cell_type": "code",
   "execution_count": 6,
   "metadata": {},
   "outputs": [
    {
     "data": {
      "text/plain": [
       "Host Id                                int64\n",
       "Host Since                    datetime64[ns]\n",
       "Name                                  object\n",
       "Neighbourhood                         object\n",
       "Property Type                         object\n",
       "Review Scores Rating (bin)           float64\n",
       "Room Type                             object\n",
       "Zipcode                              float64\n",
       "Beds                                 float64\n",
       "Number of Records                      int64\n",
       "Number Of Reviews                      int64\n",
       "Price                                  int64\n",
       "Review Scores Rating                 float64\n",
       "dtype: object"
      ]
     },
     "execution_count": 6,
     "metadata": {},
     "output_type": "execute_result"
    }
   ],
   "source": [
    "data.dtypes"
   ]
  },
  {
   "cell_type": "code",
   "execution_count": 7,
   "metadata": {},
   "outputs": [
    {
     "data": {
      "text/plain": [
       "<bound method DataFrame.info of         Host Id Host Since                                Name Neighbourhood   \\\n",
       "0       5162530        NaT     1 Bedroom in Prime Williamsburg       Brooklyn   \n",
       "1      33134899        NaT     Sunny, Private room in Bushwick       Brooklyn   \n",
       "2      39608626        NaT                Sunny Room in Harlem      Manhattan   \n",
       "3           500 2008-06-26  Gorgeous 1 BR with Private Balcony      Manhattan   \n",
       "4           500 2008-06-26            Trendy Times Square Loft      Manhattan   \n",
       "...         ...        ...                                 ...            ...   \n",
       "30473  43022976 2015-08-31   10 Mins to Time Square/two floors         Queens   \n",
       "30474  42993382 2015-08-31       1BR ocean view & F,Q train st       Brooklyn   \n",
       "30475  43033067 2015-08-31                Amazing Private Room       Brooklyn   \n",
       "30476  43000991 2015-08-31   Charming private female room: UWS      Manhattan   \n",
       "30477  42999189 2015-08-31    Huge Beautiful Bedroom - Astoria         Queens   \n",
       "\n",
       "      Property Type  Review Scores Rating (bin)        Room Type  Zipcode  \\\n",
       "0         Apartment                         NaN  Entire home/apt  11249.0   \n",
       "1         Apartment                         NaN     Private room  11206.0   \n",
       "2         Apartment                         NaN     Private room  10032.0   \n",
       "3         Apartment                         NaN  Entire home/apt  10024.0   \n",
       "4         Apartment                        95.0     Private room  10036.0   \n",
       "...             ...                         ...              ...      ...   \n",
       "30473     Apartment                         NaN  Entire home/apt  11101.0   \n",
       "30474     Apartment                         NaN     Private room  11224.0   \n",
       "30475         Other                         NaN     Private room  11206.0   \n",
       "30476     Apartment                         NaN     Private room  10025.0   \n",
       "30477         House                         NaN     Private room  11105.0   \n",
       "\n",
       "       Beds  Number of Records  Number Of Reviews  Price  Review Scores Rating  \n",
       "0       1.0                  1                  0    145                   NaN  \n",
       "1       1.0                  1                  1     37                   NaN  \n",
       "2       1.0                  1                  1     28                   NaN  \n",
       "3       3.0                  1                  0    199                   NaN  \n",
       "4       3.0                  1                 39    549                  96.0  \n",
       "...     ...                ...                ...    ...                   ...  \n",
       "30473   5.0                  1                  0    300                   NaN  \n",
       "30474   2.0                  1                  0    125                   NaN  \n",
       "30475   1.0                  1                  0     80                   NaN  \n",
       "30476   1.0                  1                  0     35                   NaN  \n",
       "30477   1.0                  1                  0     80                   NaN  \n",
       "\n",
       "[30478 rows x 13 columns]>"
      ]
     },
     "execution_count": 7,
     "metadata": {},
     "output_type": "execute_result"
    }
   ],
   "source": [
    "data.info"
   ]
  },
  {
   "cell_type": "code",
   "execution_count": 10,
   "metadata": {},
   "outputs": [
    {
     "data": {
      "text/plain": [
       "(30478, 13)"
      ]
     },
     "execution_count": 10,
     "metadata": {},
     "output_type": "execute_result"
    }
   ],
   "source": [
    "data.shape"
   ]
  },
  {
   "cell_type": "code",
   "execution_count": 9,
   "metadata": {},
   "outputs": [
    {
     "data": {
      "text/plain": [
       "Host Id                          0\n",
       "Host Since                       3\n",
       "Name                             0\n",
       "Neighbourhood                    0\n",
       "Property Type                    3\n",
       "Review Scores Rating (bin)    8323\n",
       "Room Type                        0\n",
       "Zipcode                        134\n",
       "Beds                            85\n",
       "Number of Records                0\n",
       "Number Of Reviews                0\n",
       "Price                            0\n",
       "Review Scores Rating          8323\n",
       "dtype: int64"
      ]
     },
     "execution_count": 9,
     "metadata": {},
     "output_type": "execute_result"
    }
   ],
   "source": [
    "missingvalues=data.isna().sum()\n",
    "missingvalues"
   ]
  },
  {
   "cell_type": "code",
   "execution_count": 11,
   "metadata": {},
   "outputs": [
    {
     "data": {
      "text/plain": [
       "<Axes: xlabel='Review Scores Rating (bin)', ylabel='Count'>"
      ]
     },
     "execution_count": 11,
     "metadata": {},
     "output_type": "execute_result"
    },
    {
     "data": {
      "image/png": "[encoded data removed]",
      "text/plain": [
       "<Figure size 640x480 with 1 Axes>"
      ]
     },
     "metadata": {},
     "output_type": "display_data"
    }
   ],
   "source": [
    "sns.histplot(data=data,x=\"Review Scores Rating (bin)\")"
   ]
  },
  {
   "cell_type": "code",
   "execution_count": 12,
   "metadata": {},
   "outputs": [],
   "source": [
    "data[\"Review Scores Rating (bin)\"]=data[\"Review Scores Rating (bin)\"].fillna(data[\"Review Scores Rating (bin)\"].median())"
   ]
  },
  {
   "cell_type": "code",
   "execution_count": 14,
   "metadata": {},
   "outputs": [
    {
     "data": {
      "text/plain": [
       "<Axes: xlabel='Review Scores Rating', ylabel='Count'>"
      ]
     },
     "execution_count": 14,
     "metadata": {},
     "output_type": "execute_result"
    },
    {
     "data": {
      "image/png": "[encoded data removed]",
      "text/plain": [
       "<Figure size 640x480 with 1 Axes>"
      ]
     },
     "metadata": {},
     "output_type": "display_data"
    }
   ],
   "source": [
    "sns.histplot(data=data,x=\"Review Scores Rating\")"
   ]
  },
  {
   "cell_type": "code",
   "execution_count": 16,
   "metadata": {},
   "outputs": [],
   "source": [
    "data[\"Review Scores Rating\"]=data[\"Review Scores Rating\"].fillna(data[\"Review Scores Rating\"].median())"
   ]
  },
  {
   "cell_type": "code",
   "execution_count": 18,
   "metadata": {},
   "outputs": [
    {
     "data": {
      "text/plain": [
       "<Axes: xlabel='Beds', ylabel='Count'>"
      ]
     },
     "execution_count": 18,
     "metadata": {},
     "output_type": "execute_result"
    },
    {
     "data": {
      "image/png": "[encoded data removed]",
      "text/plain": [
       "<Figure size 640x480 with 1 Axes>"
      ]
     },
     "metadata": {},
     "output_type": "display_data"
    }
   ],
   "source": [
    "sns.histplot(data=data,x=\"Beds\")"
   ]
  },
  {
   "cell_type": "code",
   "execution_count": 19,
   "metadata": {},
   "outputs": [],
   "source": [
    "data[\"Beds\"]=data[\"Beds\"].fillna(data[\"Beds\"].median())"
   ]
  },
  {
   "cell_type": "code",
   "execution_count": 20,
   "metadata": {},
   "outputs": [
    {
     "data": {
      "text/plain": [
       "Host Id                         0\n",
       "Host Since                      3\n",
       "Name                            0\n",
       "Neighbourhood                   0\n",
       "Property Type                   3\n",
       "Review Scores Rating (bin)      0\n",
       "Room Type                       0\n",
       "Zipcode                       134\n",
       "Beds                            0\n",
       "Number of Records               0\n",
       "Number Of Reviews               0\n",
       "Price                           0\n",
       "Review Scores Rating            0\n",
       "dtype: int64"
      ]
     },
     "execution_count": 20,
     "metadata": {},
     "output_type": "execute_result"
    }
   ],
   "source": [
    "missingvalues=data.isna().sum()\n",
    "missingvalues"
   ]
  },
  {
   "cell_type": "code",
   "execution_count": 21,
   "metadata": {},
   "outputs": [
    {
     "data": {
      "text/html": [
       "<div>\n",
       "<style scoped>\n",
       "    .dataframe tbody tr th:only-of-type {\n",
       "        vertical-align: middle;\n",
       "    }\n",
       "\n",
       "    .dataframe tbody tr th {\n",
       "        vertical-align: top;\n",
       "    }\n",
       "\n",
       "    .dataframe thead th {\n",
       "        text-align: right;\n",
       "    }\n",
       "</style>\n",
       "<table border=\"1\" class=\"dataframe\">\n",
       "  <thead>\n",
       "    <tr style=\"text-align: right;\">\n",
       "      <th></th>\n",
       "      <th>Host Id</th>\n",
       "      <th>Host Since</th>\n",
       "      <th>Name</th>\n",
       "      <th>Neighbourhood</th>\n",
       "      <th>Property Type</th>\n",
       "      <th>Review Scores Rating (bin)</th>\n",
       "      <th>Room Type</th>\n",
       "      <th>Zipcode</th>\n",
       "      <th>Beds</th>\n",
       "      <th>Number of Records</th>\n",
       "      <th>Number Of Reviews</th>\n",
       "      <th>Price</th>\n",
       "      <th>Review Scores Rating</th>\n",
       "    </tr>\n",
       "  </thead>\n",
       "  <tbody>\n",
       "    <tr>\n",
       "      <th>0</th>\n",
       "      <td>5162530</td>\n",
       "      <td>NaT</td>\n",
       "      <td>1 Bedroom in Prime Williamsburg</td>\n",
       "      <td>Brooklyn</td>\n",
       "      <td>Apartment</td>\n",
       "      <td>90.0</td>\n",
       "      <td>Entire home/apt</td>\n",
       "      <td>11249.0</td>\n",
       "      <td>1.0</td>\n",
       "      <td>1</td>\n",
       "      <td>0</td>\n",
       "      <td>145</td>\n",
       "      <td>94.0</td>\n",
       "    </tr>\n",
       "    <tr>\n",
       "      <th>1</th>\n",
       "      <td>33134899</td>\n",
       "      <td>NaT</td>\n",
       "      <td>Sunny, Private room in Bushwick</td>\n",
       "      <td>Brooklyn</td>\n",
       "      <td>Apartment</td>\n",
       "      <td>90.0</td>\n",
       "      <td>Private room</td>\n",
       "      <td>11206.0</td>\n",
       "      <td>1.0</td>\n",
       "      <td>1</td>\n",
       "      <td>1</td>\n",
       "      <td>37</td>\n",
       "      <td>94.0</td>\n",
       "    </tr>\n",
       "    <tr>\n",
       "      <th>2</th>\n",
       "      <td>39608626</td>\n",
       "      <td>NaT</td>\n",
       "      <td>Sunny Room in Harlem</td>\n",
       "      <td>Manhattan</td>\n",
       "      <td>Apartment</td>\n",
       "      <td>90.0</td>\n",
       "      <td>Private room</td>\n",
       "      <td>10032.0</td>\n",
       "      <td>1.0</td>\n",
       "      <td>1</td>\n",
       "      <td>1</td>\n",
       "      <td>28</td>\n",
       "      <td>94.0</td>\n",
       "    </tr>\n",
       "    <tr>\n",
       "      <th>3</th>\n",
       "      <td>500</td>\n",
       "      <td>2008-06-26</td>\n",
       "      <td>Gorgeous 1 BR with Private Balcony</td>\n",
       "      <td>Manhattan</td>\n",
       "      <td>Apartment</td>\n",
       "      <td>90.0</td>\n",
       "      <td>Entire home/apt</td>\n",
       "      <td>10024.0</td>\n",
       "      <td>3.0</td>\n",
       "      <td>1</td>\n",
       "      <td>0</td>\n",
       "      <td>199</td>\n",
       "      <td>94.0</td>\n",
       "    </tr>\n",
       "    <tr>\n",
       "      <th>4</th>\n",
       "      <td>500</td>\n",
       "      <td>2008-06-26</td>\n",
       "      <td>Trendy Times Square Loft</td>\n",
       "      <td>Manhattan</td>\n",
       "      <td>Apartment</td>\n",
       "      <td>95.0</td>\n",
       "      <td>Private room</td>\n",
       "      <td>10036.0</td>\n",
       "      <td>3.0</td>\n",
       "      <td>1</td>\n",
       "      <td>39</td>\n",
       "      <td>549</td>\n",
       "      <td>96.0</td>\n",
       "    </tr>\n",
       "  </tbody>\n",
       "</table>\n",
       "</div>"
      ],
      "text/plain": [
       "    Host Id Host Since                                Name Neighbourhood   \\\n",
       "0   5162530        NaT     1 Bedroom in Prime Williamsburg       Brooklyn   \n",
       "1  33134899        NaT     Sunny, Private room in Bushwick       Brooklyn   \n",
       "2  39608626        NaT                Sunny Room in Harlem      Manhattan   \n",
       "3       500 2008-06-26  Gorgeous 1 BR with Private Balcony      Manhattan   \n",
       "4       500 2008-06-26            Trendy Times Square Loft      Manhattan   \n",
       "\n",
       "  Property Type  Review Scores Rating (bin)        Room Type  Zipcode  Beds  \\\n",
       "0     Apartment                        90.0  Entire home/apt  11249.0   1.0   \n",
       "1     Apartment                        90.0     Private room  11206.0   1.0   \n",
       "2     Apartment                        90.0     Private room  10032.0   1.0   \n",
       "3     Apartment                        90.0  Entire home/apt  10024.0   3.0   \n",
       "4     Apartment                        95.0     Private room  10036.0   3.0   \n",
       "\n",
       "   Number of Records  Number Of Reviews  Price  Review Scores Rating  \n",
       "0                  1                  0    145                  94.0  \n",
       "1                  1                  1     37                  94.0  \n",
       "2                  1                  1     28                  94.0  \n",
       "3                  1                  0    199                  94.0  \n",
       "4                  1                 39    549                  96.0  "
      ]
     },
     "execution_count": 21,
     "metadata": {},
     "output_type": "execute_result"
    }
   ],
   "source": [
    "data.head(5)"
   ]
  },
  {
   "cell_type": "code",
   "execution_count": 24,
   "metadata": {},
   "outputs": [
    {
     "data": {
      "text/plain": [
       "Index(['Host Id', 'Host Since', 'Name', 'Neighbourhood ', 'Property Type',\n",
       "       'Review Scores Rating (bin)', 'Room Type', 'Zipcode', 'Beds',\n",
       "       'Number of Records', 'Number Of Reviews', 'Price',\n",
       "       'Review Scores Rating'],\n",
       "      dtype='object')"
      ]
     },
     "execution_count": 24,
     "metadata": {},
     "output_type": "execute_result"
    }
   ],
   "source": [
    "data.columns"
   ]
  },
  {
   "cell_type": "code",
   "execution_count": 25,
   "metadata": {},
   "outputs": [],
   "source": [
    "data['Zipcode']=data.groupby('Neighbourhood ')['Zipcode'].transform(lambda x: x.fillna(x.mode()[0] if not x.mode().empty else None))\n"
   ]
  },
  {
   "cell_type": "code",
   "execution_count": 26,
   "metadata": {},
   "outputs": [
    {
     "data": {
      "text/plain": [
       "Host Id                       0\n",
       "Host Since                    3\n",
       "Name                          0\n",
       "Neighbourhood                 0\n",
       "Property Type                 3\n",
       "Review Scores Rating (bin)    0\n",
       "Room Type                     0\n",
       "Zipcode                       0\n",
       "Beds                          0\n",
       "Number of Records             0\n",
       "Number Of Reviews             0\n",
       "Price                         0\n",
       "Review Scores Rating          0\n",
       "dtype: int64"
      ]
     },
     "execution_count": 26,
     "metadata": {},
     "output_type": "execute_result"
    }
   ],
   "source": [
    "missingvalues=data.isna().sum()\n",
    "missingvalues"
   ]
  },
  {
   "cell_type": "code",
   "execution_count": 27,
   "metadata": {},
   "outputs": [],
   "source": [
    "data[\"Property Type\"]=data[\"Property Type\"].fillna(data[\"Property Type\"].mode().iloc[0])"
   ]
  },
  {
   "cell_type": "code",
   "execution_count": 28,
   "metadata": {},
   "outputs": [
    {
     "data": {
      "text/plain": [
       "Host Id                       0\n",
       "Host Since                    3\n",
       "Name                          0\n",
       "Neighbourhood                 0\n",
       "Property Type                 0\n",
       "Review Scores Rating (bin)    0\n",
       "Room Type                     0\n",
       "Zipcode                       0\n",
       "Beds                          0\n",
       "Number of Records             0\n",
       "Number Of Reviews             0\n",
       "Price                         0\n",
       "Review Scores Rating          0\n",
       "dtype: int64"
      ]
     },
     "execution_count": 28,
     "metadata": {},
     "output_type": "execute_result"
    }
   ],
   "source": [
    "missingvalues=data.isna().sum()\n",
    "missingvalues"
   ]
  },
  {
   "cell_type": "code",
   "execution_count": 33,
   "metadata": {},
   "outputs": [],
   "source": [
    "data['Host Since']= data['Host Since'].bfill()"
   ]
  },
  {
   "cell_type": "code",
   "execution_count": 34,
   "metadata": {},
   "outputs": [
    {
     "data": {
      "text/plain": [
       "Host Id                       0\n",
       "Host Since                    0\n",
       "Name                          0\n",
       "Neighbourhood                 0\n",
       "Property Type                 0\n",
       "Review Scores Rating (bin)    0\n",
       "Room Type                     0\n",
       "Zipcode                       0\n",
       "Beds                          0\n",
       "Number of Records             0\n",
       "Number Of Reviews             0\n",
       "Price                         0\n",
       "Review Scores Rating          0\n",
       "dtype: int64"
      ]
     },
     "execution_count": 34,
     "metadata": {},
     "output_type": "execute_result"
    }
   ],
   "source": [
    "data.isna().sum()"
   ]
  },
  {
   "cell_type": "code",
   "execution_count": 35,
   "metadata": {},
   "outputs": [
    {
     "data": {
      "text/plain": [
       "Host Id                       0\n",
       "Host Since                    0\n",
       "Name                          0\n",
       "Neighbourhood                 0\n",
       "Property Type                 0\n",
       "Review Scores Rating (bin)    0\n",
       "Room Type                     0\n",
       "Zipcode                       0\n",
       "Beds                          0\n",
       "Number of Records             0\n",
       "Number Of Reviews             0\n",
       "Price                         0\n",
       "Review Scores Rating          0\n",
       "dtype: int64"
      ]
     },
     "execution_count": 35,
     "metadata": {},
     "output_type": "execute_result"
    }
   ],
   "source": [
    "data.isna().sum()"
   ]
  },
  {
   "cell_type": "code",
   "execution_count": 36,
   "metadata": {},
   "outputs": [],
   "source": [
    "data.to_csv(\"clean_airbnb_data.csv\", index=False)"
   ]
  },
  {
   "cell_type": "code",
   "execution_count": 37,
   "metadata": {},
   "outputs": [],
   "source": [
    "data.to_excel(\"clean_airbnb_data.xlsx\", index=False, engine=\"openpyxl\")"
   ]
  }
 ],
 "metadata": {
  "kernelspec": {
   "display_name": "Python 3",
   "language": "python",
   "name": "python3"
  },
  "language_info": {
   "codemirror_mode": {
    "name": "ipython",
    "version": 3
   },
   "file_extension": ".py",
   "mimetype": "text/x-python",
   "name": "python",
   "nbconvert_exporter": "python",
   "pygments_lexer": "ipython3",
   "version": "3.12.2"
  }
 },
 "nbformat": 4,
 "nbformat_minor": 2
}
