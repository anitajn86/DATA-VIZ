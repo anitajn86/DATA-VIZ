{
 "cells": [
  {
   "cell_type": "code",
   "execution_count": null,
   "id": "c438cccc",
   "metadata": {},
   "outputs": [],
   "source": [
    "import pandas as pd\n",
    "from pandasai import SmartDataframe\n",
    "from pandasai.llm.openai import OpenAI\n",
    "\n",
    "# Create your DataFrame\n",
    "data = {'Name': ['Alice', 'Bob', 'Charlie'],\n",
    "        'Age': [25, 30, 35],\n",
    "        'Salary': [50000, 60000, 70000]}\n",
    "df = pd.DataFrame(data)\n",
    "\n",
    "# Set up your LLM (you need your OpenAI API key)\n",
    "llm = OpenAI(api_token=\"your-openai-api-key\")\n",
    "\n",
    "# Wrap your DataFrame with PandasAI\n",
    "sdf = SmartDataframe(df, config={\"llm\": llm})\n"
   ]
  },
  {
   "cell_type": "code",
   "execution_count": 1,
   "id": "c7036cce",
   "metadata": {},
   "outputs": [],
   "source": [
    "import pandas as pd"
   ]
  },
  {
   "cell_type": "code",
   "execution_count": 2,
   "id": "874c2694",
   "metadata": {},
   "outputs": [
    {
     "name": "stdout",
     "output_type": "stream",
     "text": [
      "ok\n"
     ]
    }
   ],
   "source": [
    "print('ok')"
   ]
  }
 ],
 "metadata": {
  "kernelspec": {
   "display_name": "Python 3",
   "language": "python",
   "name": "python3"
  },
  "language_info": {
   "codemirror_mode": {
    "name": "ipython",
    "version": 3
   },
   "file_extension": ".py",
   "mimetype": "text/x-python",
   "name": "python",
   "nbconvert_exporter": "python",
   "pygments_lexer": "ipython3",
   "version": "3.12.2"
  }
 },
 "nbformat": 4,
 "nbformat_minor": 5
}
